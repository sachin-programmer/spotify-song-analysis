{
 "cells": [
  {
   "cell_type": "code",
   "execution_count": 1,
   "id": "81c57c30-3ec8-4c46-9eb4-ce5eaf97d9f1",
   "metadata": {},
   "outputs": [
    {
     "name": "stdout",
     "output_type": "stream",
     "text": [
      "✅ Project structure created successfully!\n"
     ]
    }
   ],
   "source": [
    "import os\n",
    "\n",
    "# Create the main project folder\n",
    "main_folder = \"spotify-song-analysis\"\n",
    "subfolders = [\"data\", \"notebooks\", \"visuals\", \"models\", \"report\"]\n",
    "\n",
    "# Create main and subfolders\n",
    "if not os.path.exists(main_folder):\n",
    "    os.mkdir(main_folder)\n",
    "    for folder in subfolders:\n",
    "        os.makedirs(os.path.join(main_folder, folder), exist_ok=True)\n",
    "\n",
    "# Create empty README.md and requirements.txt\n",
    "open(os.path.join(main_folder, \"README.md\"), \"w\").close()\n",
    "open(os.path.join(main_folder, \"requirements.txt\"), \"w\").close()\n",
    "\n",
    "print(\"✅ Project structure created successfully!\")"
   ]
  },
  {
   "cell_type": "code",
   "execution_count": 2,
   "id": "95087866-8ac6-44f6-86af-05386d50a0dd",
   "metadata": {},
   "outputs": [
    {
     "name": "stdout",
     "output_type": "stream",
     "text": [
      "spotify-song-analysis/\n",
      "  README.md\n",
      "  requirements.txt\n",
      "  data/\n",
      "  models/\n",
      "  notebooks/\n",
      "  report/\n",
      "  visuals/\n"
     ]
    }
   ],
   "source": [
    "for root, dirs, files in os.walk(\"spotify-song-analysis\"):\n",
    "    level = root.replace(\"spotify-song-analysis\", \"\").count(os.sep)\n",
    "    indent = \" \" * 2 * level\n",
    "    print(f\"{indent}{os.path.basename(root)}/\")\n",
    "    subindent = \" \" * 2 * (level + 1)\n",
    "    for f in files:\n",
    "        print(f\"{subindent}{f}\")"
   ]
  },
  {
   "cell_type": "code",
   "execution_count": null,
   "id": "37a6e3a2-dc13-43af-8da0-3a8077d0dc33",
   "metadata": {},
   "outputs": [],
   "source": []
  }
 ],
 "metadata": {
  "kernelspec": {
   "display_name": "Python 3 (ipykernel)",
   "language": "python",
   "name": "python3"
  },
  "language_info": {
   "codemirror_mode": {
    "name": "ipython",
    "version": 3
   },
   "file_extension": ".py",
   "mimetype": "text/x-python",
   "name": "python",
   "nbconvert_exporter": "python",
   "pygments_lexer": "ipython3",
   "version": "3.12.7"
  }
 },
 "nbformat": 4,
 "nbformat_minor": 5
}
